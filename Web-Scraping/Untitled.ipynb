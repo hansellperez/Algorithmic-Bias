{
 "cells": [
  {
   "cell_type": "code",
   "execution_count": 48,
   "id": "6d344e0f",
   "metadata": {
    "collapsed": true
   },
   "outputs": [
    {
     "data": {
      "text/plain": [
       "['California State University, Long Beach',\n",
       " 'California State University, Long Beach',\n",
       " 'California State University, Long Beach',\n",
       " 'California State University Long Beach',\n",
       " 'California State University Long Beach',\n",
       " 'A teacher in front of a classroom',\n",
       " 'An employer and student shake hands',\n",
       " 'Five students sitting around a classroom table',\n",
       " 'Promotional Bracelets and Pencils',\n",
       " 'College of Education building',\n",
       " \"A child hoods a master's in educational administration grad\",\n",
       " 'Two people hug at an Educational Leadership Doctorate Hooding Ceremony.',\n",
       " 'Two graduates celebrate at commencement',\n",
       " 'Chloe Haynes poses for a photo',\n",
       " 'Dr. Anna Ortiz headshot',\n",
       " 'Bill Vega poses with a group of students',\n",
       " 'CED Quick Facts',\n",
       " 'Share an update graphic',\n",
       " '',\n",
       " 'California State University Long Beach',\n",
       " 'California State University, Long Beach',\n",
       " 'California State University, Long Beach',\n",
       " 'California State University, Long Beach']"
      ]
     },
     "metadata": {},
     "output_type": "display_data"
    },
    {
     "name": "stdout",
     "output_type": "stream",
     "text": [
      "Error downloading /themes/custom/csulb/images/lb.svg: unknown url type: '/themes/custom/csulb/images/lb.svg'\n",
      "Error downloading /themes/custom/csulb/images/logo-footer.svg: unknown url type: '/themes/custom/csulb/images/logo-footer.svg'\n",
      "Error downloading /themes/custom/csulb/images/mobile-footer-logo.png: unknown url type: '/themes/custom/csulb/images/mobile-footer-logo.png'\n",
      "Error downloading /themes/custom/csulb/images/wordmark-black.png: unknown url type: '/themes/custom/csulb/images/wordmark-black.png'\n",
      "Error downloading /themes/custom/csulb/images/wordmark-black.png: unknown url type: '/themes/custom/csulb/images/wordmark-black.png'\n",
      "Error downloading /sites/default/files/styles/banner_image_short/public/images/banner_ced_thy-148-teacher-middle-classroom.jpg?h=a9dab6b0&itok=SS4HN3Ro: unknown url type: '/sites/default/files/styles/banner_image_short/public/images/banner_ced_thy-148-teacher-middle-classroom.jpg?h=a9dab6b0&itok=SS4HN3Ro'\n",
      "Error downloading /sites/default/files/styles/banner_image_short/public/images/banner_ced_edu-week.jpg?h=e27cd453&itok=IpfYuKtx: unknown url type: '/sites/default/files/styles/banner_image_short/public/images/banner_ced_edu-week.jpg?h=e27cd453&itok=IpfYuKtx'\n",
      "Error downloading /sites/default/files/styles/banner_image_short/public/images/nina-flores-class5-b_1.jpg?h=e27cd453&itok=wV2w1_EY: unknown url type: '/sites/default/files/styles/banner_image_short/public/images/nina-flores-class5-b_1.jpg?h=e27cd453&itok=wV2w1_EY'\n",
      "Error downloading /sites/default/files/styles/banner_image_short/public/images/banner_ced_apply2-braclets-and-pencils.jpg?h=e27cd453&itok=6CrR2qVU: unknown url type: '/sites/default/files/styles/banner_image_short/public/images/banner_ced_apply2-braclets-and-pencils.jpg?h=e27cd453&itok=6CrR2qVU'\n",
      "Error downloading /sites/default/files/styles/interior_slideshow_780x435/public/images/2023-06/CED%20Main.jpg?h=e27cd453&itok=kpCWbm-H: unknown url type: '/sites/default/files/styles/interior_slideshow_780x435/public/images/2023-06/CED%20Main.jpg?h=e27cd453&itok=kpCWbm-H'\n",
      "Error downloading /sites/default/files/styles/interior_slideshow_780x435/public/images/2023-06/Banner_CED_EDADHooding.jpg?h=f4761ccc&itok=-5bDhBG7: unknown url type: '/sites/default/files/styles/interior_slideshow_780x435/public/images/2023-06/Banner_CED_EDADHooding.jpg?h=f4761ccc&itok=-5bDhBG7'\n",
      "Error downloading /sites/default/files/styles/interior_slideshow_780x435/public/images/2023-06/Banner_CED_EDDHooding23.jpg?h=e27cd453&itok=JJnHFLou: unknown url type: '/sites/default/files/styles/interior_slideshow_780x435/public/images/2023-06/Banner_CED_EDDHooding23.jpg?h=e27cd453&itok=JJnHFLou'\n",
      "Error downloading /sites/default/files/styles/interior_slideshow_780x435/public/images/2023-06/Main%20commence.jpg?h=e4de3172&itok=9MOJv26V: unknown url type: '/sites/default/files/styles/interior_slideshow_780x435/public/images/2023-06/Main%20commence.jpg?h=e4de3172&itok=9MOJv26V'\n",
      "Error downloading /sites/default/files/styles/interior_slideshow_780x435/public/images/2023-05/Banner_CED_ChloeHaynes.jpg?h=a1e9c4a1&itok=0eNmXDRZ: unknown url type: '/sites/default/files/styles/interior_slideshow_780x435/public/images/2023-05/Banner_CED_ChloeHaynes.jpg?h=a1e9c4a1&itok=0eNmXDRZ'\n",
      "Error downloading /sites/default/files/styles/interior_slideshow_780x435/public/images/2023-04/Banner_CED_AnnaOrtiz.jpg?h=e27cd453&itok=5q0d-TEx: unknown url type: '/sites/default/files/styles/interior_slideshow_780x435/public/images/2023-04/Banner_CED_AnnaOrtiz.jpg?h=e27cd453&itok=5q0d-TEx'\n",
      "Error downloading /sites/default/files/styles/interior_slideshow_780x435/public/images/2023-01/VegaTest.jpg?h=f574bd29&itok=5i-VqwnY: unknown url type: '/sites/default/files/styles/interior_slideshow_780x435/public/images/2023-01/VegaTest.jpg?h=f574bd29&itok=5i-VqwnY'\n",
      "Error downloading /sites/default/files/images/ced_fact_sheet_final_page_2_0.jpg: unknown url type: '/sites/default/files/images/ced_fact_sheet_final_page_2_0.jpg'\n",
      "Error downloading /sites/default/files/images/2022-12/accolade.png: unknown url type: '/sites/default/files/images/2022-12/accolade.png'\n",
      "Downloaded: https://www.facebook.com/tr?id=230255291001704&ev=PageView%0D%0A%0D%0A&noscript=1\n",
      "Error downloading /sites/default/files/2022-02/lb_wordmark_blk-59.svg: unknown url type: '/sites/default/files/2022-02/lb_wordmark_blk-59.svg'\n",
      "Error downloading /sites/default/files/2022-05/csulb.svg: unknown url type: '/sites/default/files/2022-05/csulb.svg'\n",
      "Error downloading /themes/custom/csulb/images/lb.svg: unknown url type: '/themes/custom/csulb/images/lb.svg'\n",
      "Error downloading /themes/custom/csulb/images/wordmark-white.png: unknown url type: '/themes/custom/csulb/images/wordmark-white.png'\n"
     ]
    }
   ],
   "source": [
    "import requests\n",
    "from bs4 import BeautifulSoup\n",
    "import urllib\n",
    "\n",
    "def extract_images(url):\n",
    "    # Send a GET request to the specified URL\n",
    "    response = requests.get(url)\n",
    "    \n",
    "    # Parse the HTML content\n",
    "    soup = BeautifulSoup(response.text, 'html.parser')\n",
    "    \n",
    "    # Find all image tags\n",
    "    image_tags = soup.find_all('img')\n",
    "    \n",
    "    \n",
    "    # Extract the source URL of each image\n",
    "    image_urls = [img['src'] for img in image_tags]\n",
    "    \n",
    "    image_texts = [img['alt']for img in image_tags]\n",
    "    \n",
    "    #display(image_tags + image_urls)\n",
    "    display(image_texts)\n",
    "    # Download each image\n",
    "    for url in image_urls:\n",
    "        try:\n",
    "            # Generate a unique filename for each image\n",
    "            filename = url.split('/')[-1]\n",
    "            \n",
    "            # Download the image using urllib\n",
    "            urllib.request.urlretrieve(url, filename)\n",
    "            print(f\"Downloaded: {url}\")\n",
    "        except Exception as e:\n",
    "            print(f\"Error downloading {url}: {str(e)}\")\n",
    "\n",
    "# Example usage\n",
    "extract_images('https://www.csulb.edu/college-of-education')\n"
   ]
  },
  {
   "cell_type": "code",
   "execution_count": 50,
   "id": "7de36357",
   "metadata": {},
   "outputs": [
    {
     "data": {
      "text/plain": [
       "'\\nexample of how to run main to download images      \\nmain(\"https://www.csulb.edu/college-of-education\", \"C:\\\\Users\\\\hanse\\\\Documents\\\\Github\\\\Algorithmic-Bias\\\\Web-Scraping\\\\image-folder\")\\n'"
      ]
     },
     "execution_count": 50,
     "metadata": {},
     "output_type": "execute_result"
    }
   ],
   "source": [
    "import requests\n",
    "import os\n",
    "from tqdm import tqdm\n",
    "from bs4 import BeautifulSoup as bs\n",
    "from urllib.parse import urljoin, urlparse\n",
    "\n",
    "\n",
    "def is_valid(url):\n",
    "    \"\"\"\n",
    "    Checks whether `url` is a valid URL.\n",
    "    \"\"\"\n",
    "    parsed = urlparse(url)\n",
    "    return bool(parsed.netloc) and bool(parsed.scheme)\n",
    "\n",
    "def get_all_images(url):\n",
    "    \"\"\"\n",
    "    Returns all image URLs on a single `url`\n",
    "    \"\"\"\n",
    "    soup = bs(requests.get(url).content, \"html.parser\")\n",
    "    \n",
    "    urls = []\n",
    "    for img in tqdm(soup.find_all(\"img\"), \"Extracting images\"):\n",
    "        img_url = img.attrs.get(\"src\")\n",
    "        img_text = img.attrs.get('alt')\n",
    "        if not img_url:\n",
    "            # if img does not contain src attribute, just skip\n",
    "            continue\n",
    "#             img_not_url = \n",
    "        \n",
    "        # make the URL absolute by joining domain with the URL that is just extracted\n",
    "        img_url = urljoin(url, img_url)\n",
    "        \n",
    "        try:\n",
    "            pos = img_url.index(\"?\")\n",
    "            img_url = img_url[:pos]\n",
    "        except ValueError:\n",
    "            pass\n",
    "        \n",
    "        # finally, if the url is valid\n",
    "        if is_valid(img_url):\n",
    "            urls.append(img_url)\n",
    "        display(img_text)\n",
    "    return urls\n",
    "\n",
    "def download(url, pathname):\n",
    "    \"\"\"\n",
    "    Downloads a file given an URL and puts it in the folder `pathname`\n",
    "    \"\"\"\n",
    "    # if path doesn't exist, make that path dir\n",
    "    if not os.path.isdir(pathname):\n",
    "        os.makedirs(pathname)\n",
    "    # download the body of response by chunk, not immediately\n",
    "    response = requests.get(url, stream=True)\n",
    "    # get the total file size\n",
    "    file_size = int(response.headers.get(\"Content-Length\", 0))\n",
    "    # get the file name\n",
    "    filename = os.path.join(pathname, url.split(\"/\")[-1])\n",
    "    # progress bar, changing the unit to bytes instead of iteration (default by tqdm)\n",
    "    progress = tqdm(response.iter_content(1024), f\"Downloading {filename}\", total=file_size, unit=\"B\", unit_scale=True, unit_divisor=1024)\n",
    "    with open(filename, \"wb\") as f:\n",
    "        for data in progress.iterable:\n",
    "            # write data read to the file\n",
    "            f.write(data)\n",
    "            # update the progress bar manually\n",
    "            progress.update(len(data))\n",
    "            \n",
    "\n",
    "\"\"\"\n",
    " \"main\" is the function that is actually scraping and downloading the images off a specified website\n",
    " input: a url and a directory path\n",
    " output/result: images are downloaded into specific folder\n",
    " everything above is used in main\n",
    "\"\"\"           \n",
    "def main(url, path):\n",
    "    # get all images\n",
    "    imgs = get_all_images(url)\n",
    "    for img in imgs:\n",
    "        # for each image, download it\n",
    "        download(img, path)\n",
    "\n",
    "\"\"\"\n",
    "example of how to run main to download images      \n",
    "main(\"https://www.csulb.edu/college-of-education\", \"C:\\\\Users\\\\hanse\\\\Documents\\\\Github\\\\Algorithmic-Bias\\\\Web-Scraping\\\\image-folder\")\n",
    "\"\"\""
   ]
  },
  {
   "cell_type": "code",
   "execution_count": 16,
   "id": "9adfe0e8",
   "metadata": {
    "scrolled": true
   },
   "outputs": [
    {
     "name": "stderr",
     "output_type": "stream",
     "text": [
      "Extracting images: 100%|█████████████████████| 23/23 [00:00<00:00, 53356.74it/s]\n",
      "Downloading /Users/dslc/Documents/yea/lb.svg: 100%|█| 3.94k/3.94k [00:00<00:00, \n",
      "Downloading /Users/dslc/Documents/yea/logo-footer.svg: 100%|█| 7.84k/7.84k [00:0\n",
      "Downloading /Users/dslc/Documents/yea/mobile-footer-logo.png: 100%|█| 10.7k/10.7\n",
      "Downloading /Users/dslc/Documents/yea/wordmark-black.png: 100%|█| 14.4k/14.4k [0\n",
      "Downloading /Users/dslc/Documents/yea/wordmark-black.png: 100%|█| 14.4k/14.4k [0\n",
      "Downloading /Users/dslc/Documents/yea/banner_ced_thy-148-teacher-middle-classroo\n",
      "Downloading /Users/dslc/Documents/yea/banner_ced_edu-week.jpg: 100%|█| 153k/153k\n",
      "Downloading /Users/dslc/Documents/yea/nina-flores-class5-b_1.jpg: 100%|█| 149k/1\n",
      "Downloading /Users/dslc/Documents/yea/banner_ced_apply2-braclets-and-pencils.jpg\n",
      "Downloading /Users/dslc/Documents/yea/CED%20Main.jpg: 100%|█| 306k/306k [00:00<0\n",
      "Downloading /Users/dslc/Documents/yea/Banner_CED_EDADHooding.jpg: 100%|█| 136k/1\n",
      "Downloading /Users/dslc/Documents/yea/Banner_CED_EDDHooding23.jpg: 100%|█| 137k/\n",
      "Downloading /Users/dslc/Documents/yea/Main%20commence.jpg: 100%|█| 88.8k/88.8k [\n",
      "Downloading /Users/dslc/Documents/yea/Banner_CED_ChloeHaynes.jpg: 100%|█| 121k/1\n",
      "Downloading /Users/dslc/Documents/yea/Banner_CED_AnnaOrtiz.jpg: 100%|█| 116k/116\n",
      "Downloading /Users/dslc/Documents/yea/VegaTest.jpg: 100%|█| 123k/123k [00:00<00:\n",
      "Downloading /Users/dslc/Documents/yea/ced_fact_sheet_final_page_2_0.jpg: 100%|█|\n",
      "Downloading /Users/dslc/Documents/yea/accolade.png: 100%|█| 12.5k/12.5k [00:00<0\n",
      "Downloading /Users/dslc/Documents/yea/tr: 0.00B [00:00, ?B/s]\n",
      "Downloading /Users/dslc/Documents/yea/lb_wordmark_blk-59.svg: 100%|█| 7.84k/7.84\n",
      "Downloading /Users/dslc/Documents/yea/csulb.svg: 100%|█| 8.75k/8.75k [00:00<00:0\n",
      "Downloading /Users/dslc/Documents/yea/lb.svg: 100%|█| 3.94k/3.94k [00:00<00:00, \n",
      "Downloading /Users/dslc/Documents/yea/wordmark-white.png: 100%|█| 45.0k/45.0k [0\n"
     ]
    }
   ],
   "source": [
    "main('https://www.csulb.edu/college-of-education','/Users/dslc/Documents/yea')"
   ]
  },
  {
   "cell_type": "code",
   "execution_count": 51,
   "id": "6c1bd424",
   "metadata": {},
   "outputs": [
    {
     "name": "stderr",
     "output_type": "stream",
     "text": [
      "\r",
      "Extracting images:   0%|                                 | 0/23 [00:00<?, ?it/s]"
     ]
    },
    {
     "data": {
      "text/plain": [
       "'California State University, Long Beach'"
      ]
     },
     "metadata": {},
     "output_type": "display_data"
    },
    {
     "data": {
      "text/plain": [
       "'California State University, Long Beach'"
      ]
     },
     "metadata": {},
     "output_type": "display_data"
    },
    {
     "data": {
      "text/plain": [
       "'California State University, Long Beach'"
      ]
     },
     "metadata": {},
     "output_type": "display_data"
    },
    {
     "data": {
      "text/plain": [
       "'California State University Long Beach'"
      ]
     },
     "metadata": {},
     "output_type": "display_data"
    },
    {
     "data": {
      "text/plain": [
       "'California State University Long Beach'"
      ]
     },
     "metadata": {},
     "output_type": "display_data"
    },
    {
     "data": {
      "text/plain": [
       "'A teacher in front of a classroom'"
      ]
     },
     "metadata": {},
     "output_type": "display_data"
    },
    {
     "data": {
      "text/plain": [
       "'An employer and student shake hands'"
      ]
     },
     "metadata": {},
     "output_type": "display_data"
    },
    {
     "data": {
      "text/plain": [
       "'Five students sitting around a classroom table'"
      ]
     },
     "metadata": {},
     "output_type": "display_data"
    },
    {
     "data": {
      "text/plain": [
       "'Promotional Bracelets and Pencils'"
      ]
     },
     "metadata": {},
     "output_type": "display_data"
    },
    {
     "data": {
      "text/plain": [
       "'College of Education building'"
      ]
     },
     "metadata": {},
     "output_type": "display_data"
    },
    {
     "data": {
      "text/plain": [
       "\"A child hoods a master's in educational administration grad\""
      ]
     },
     "metadata": {},
     "output_type": "display_data"
    },
    {
     "data": {
      "text/plain": [
       "'Two people hug at an Educational Leadership Doctorate Hooding Ceremony.'"
      ]
     },
     "metadata": {},
     "output_type": "display_data"
    },
    {
     "data": {
      "text/plain": [
       "'Two graduates celebrate at commencement'"
      ]
     },
     "metadata": {},
     "output_type": "display_data"
    },
    {
     "data": {
      "text/plain": [
       "'Chloe Haynes poses for a photo'"
      ]
     },
     "metadata": {},
     "output_type": "display_data"
    },
    {
     "data": {
      "text/plain": [
       "'Dr. Anna Ortiz headshot'"
      ]
     },
     "metadata": {},
     "output_type": "display_data"
    },
    {
     "data": {
      "text/plain": [
       "'Bill Vega poses with a group of students'"
      ]
     },
     "metadata": {},
     "output_type": "display_data"
    },
    {
     "data": {
      "text/plain": [
       "'CED Quick Facts'"
      ]
     },
     "metadata": {},
     "output_type": "display_data"
    },
    {
     "data": {
      "text/plain": [
       "'Share an update graphic'"
      ]
     },
     "metadata": {},
     "output_type": "display_data"
    },
    {
     "data": {
      "text/plain": [
       "''"
      ]
     },
     "metadata": {},
     "output_type": "display_data"
    },
    {
     "data": {
      "text/plain": [
       "'California State University Long Beach'"
      ]
     },
     "metadata": {},
     "output_type": "display_data"
    },
    {
     "data": {
      "text/plain": [
       "'California State University, Long Beach'"
      ]
     },
     "metadata": {},
     "output_type": "display_data"
    },
    {
     "data": {
      "text/plain": [
       "'California State University, Long Beach'"
      ]
     },
     "metadata": {},
     "output_type": "display_data"
    },
    {
     "data": {
      "text/plain": [
       "'California State University, Long Beach'"
      ]
     },
     "metadata": {},
     "output_type": "display_data"
    },
    {
     "name": "stderr",
     "output_type": "stream",
     "text": [
      "Extracting images: 100%|██████████████████████| 23/23 [00:00<00:00, 1733.90it/s]\n"
     ]
    },
    {
     "data": {
      "text/plain": [
       "['https://www.csulb.edu/themes/custom/csulb/images/lb.svg',\n",
       " 'https://www.csulb.edu/themes/custom/csulb/images/logo-footer.svg',\n",
       " 'https://www.csulb.edu/themes/custom/csulb/images/mobile-footer-logo.png',\n",
       " 'https://www.csulb.edu/themes/custom/csulb/images/wordmark-black.png',\n",
       " 'https://www.csulb.edu/themes/custom/csulb/images/wordmark-black.png',\n",
       " 'https://www.csulb.edu/sites/default/files/styles/banner_image_short/public/images/banner_ced_thy-148-teacher-middle-classroom.jpg',\n",
       " 'https://www.csulb.edu/sites/default/files/styles/banner_image_short/public/images/banner_ced_edu-week.jpg',\n",
       " 'https://www.csulb.edu/sites/default/files/styles/banner_image_short/public/images/nina-flores-class5-b_1.jpg',\n",
       " 'https://www.csulb.edu/sites/default/files/styles/banner_image_short/public/images/banner_ced_apply2-braclets-and-pencils.jpg',\n",
       " 'https://www.csulb.edu/sites/default/files/styles/interior_slideshow_780x435/public/images/2023-06/CED%20Main.jpg',\n",
       " 'https://www.csulb.edu/sites/default/files/styles/interior_slideshow_780x435/public/images/2023-06/Banner_CED_EDADHooding.jpg',\n",
       " 'https://www.csulb.edu/sites/default/files/styles/interior_slideshow_780x435/public/images/2023-06/Banner_CED_EDDHooding23.jpg',\n",
       " 'https://www.csulb.edu/sites/default/files/styles/interior_slideshow_780x435/public/images/2023-06/Main%20commence.jpg',\n",
       " 'https://www.csulb.edu/sites/default/files/styles/interior_slideshow_780x435/public/images/2023-05/Banner_CED_ChloeHaynes.jpg',\n",
       " 'https://www.csulb.edu/sites/default/files/styles/interior_slideshow_780x435/public/images/2023-04/Banner_CED_AnnaOrtiz.jpg',\n",
       " 'https://www.csulb.edu/sites/default/files/styles/interior_slideshow_780x435/public/images/2023-01/VegaTest.jpg',\n",
       " 'https://www.csulb.edu/sites/default/files/images/ced_fact_sheet_final_page_2_0.jpg',\n",
       " 'https://www.csulb.edu/sites/default/files/images/2022-12/accolade.png',\n",
       " 'https://www.facebook.com/tr',\n",
       " 'https://www.csulb.edu/sites/default/files/2022-02/lb_wordmark_blk-59.svg',\n",
       " 'https://www.csulb.edu/sites/default/files/2022-05/csulb.svg',\n",
       " 'https://www.csulb.edu/themes/custom/csulb/images/lb.svg',\n",
       " 'https://www.csulb.edu/themes/custom/csulb/images/wordmark-white.png']"
      ]
     },
     "execution_count": 51,
     "metadata": {},
     "output_type": "execute_result"
    }
   ],
   "source": [
    "get_all_images('https://www.csulb.edu/college-of-education')"
   ]
  },
  {
   "cell_type": "code",
   "execution_count": 23,
   "id": "f52d616f",
   "metadata": {},
   "outputs": [
    {
     "ename": "NameError",
     "evalue": "name 'img_all_url' is not defined",
     "output_type": "error",
     "traceback": [
      "\u001b[0;31m---------------------------------------------------------------------------\u001b[0m",
      "\u001b[0;31mNameError\u001b[0m                                 Traceback (most recent call last)",
      "Cell \u001b[0;32mIn[23], line 1\u001b[0m\n\u001b[0;32m----> 1\u001b[0m display(\u001b[43mimg_all_url\u001b[49m)\n",
      "\u001b[0;31mNameError\u001b[0m: name 'img_all_url' is not defined"
     ]
    }
   ],
   "source": [
    "display(img_all_url)"
   ]
  },
  {
   "cell_type": "code",
   "execution_count": 9,
   "id": "30311e1f",
   "metadata": {},
   "outputs": [
    {
     "data": {
      "text/plain": [
       "<function __main__.get_all_images(url)>"
      ]
     },
     "execution_count": 9,
     "metadata": {},
     "output_type": "execute_result"
    }
   ],
   "source": []
  }
 ],
 "metadata": {
  "kernelspec": {
   "display_name": "Python 3 (ipykernel)",
   "language": "python",
   "name": "python3"
  },
  "language_info": {
   "codemirror_mode": {
    "name": "ipython",
    "version": 3
   },
   "file_extension": ".py",
   "mimetype": "text/x-python",
   "name": "python",
   "nbconvert_exporter": "python",
   "pygments_lexer": "ipython3",
   "version": "3.9.6"
  }
 },
 "nbformat": 4,
 "nbformat_minor": 5
}
