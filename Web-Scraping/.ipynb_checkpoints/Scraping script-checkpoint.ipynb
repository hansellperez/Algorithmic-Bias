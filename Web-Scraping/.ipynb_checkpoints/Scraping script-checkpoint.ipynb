{
 "cells": [
  {
   "cell_type": "markdown",
   "id": "93c5a833",
   "metadata": {},
   "source": [
    "## This will be our initial attempt to develop a script to scrape the website of choice."
   ]
  },
  {
   "cell_type": "code",
   "execution_count": 36,
   "id": "3fd70645",
   "metadata": {},
   "outputs": [
    {
     "data": {
      "text/plain": [
       "'\\nexample of how to run main to download images      \\nmain(\"https://www.csulb.edu/college-of-education\", \"C:\\\\Users\\\\hanse\\\\Documents\\\\Github\\\\Algorithmic-Bias\\\\Web-Scraping\\\\image-folder\")\\n'"
      ]
     },
     "execution_count": 36,
     "metadata": {},
     "output_type": "execute_result"
    }
   ],
   "source": [
    "import requests\n",
    "import os\n",
    "from tqdm import tqdm\n",
    "from bs4 import BeautifulSoup as bs\n",
    "from urllib.parse import urljoin, urlparse\n",
    "\n",
    "def is_valid(url):\n",
    "    \"\"\"\n",
    "    Checks whether `url` is a valid URL.\n",
    "    \"\"\"\n",
    "    parsed = urlparse(url)\n",
    "    return bool(parsed.netloc) and bool(parsed.scheme)\n",
    "\n",
    "def get_all_images(url):\n",
    "    \"\"\"\n",
    "    Returns all image URLs on a single `url`\n",
    "    \"\"\"\n",
    "    soup = bs(requests.get(url).content, \"html.parser\")\n",
    "    \n",
    "    urls = []\n",
    "    for img in tqdm(soup.find_all(\"img\"), \"Extracting images\"):\n",
    "        img_url = img.attrs.get(\"src\")\n",
    "        if not img_url:\n",
    "            # if img does not contain src attribute, just skip\n",
    "            continue\n",
    "        \n",
    "        # make the URL absolute by joining domain with the URL that is just extracted\n",
    "        img_url = urljoin(url, img_url)\n",
    "        \n",
    "        try:\n",
    "            pos = img_url.index(\"?\")\n",
    "            img_url = img_url[:pos]\n",
    "        except ValueError:\n",
    "            pass\n",
    "        \n",
    "        # finally, if the url is valid\n",
    "        if is_valid(img_url):\n",
    "            urls.append(img_url)\n",
    "    return urls\n",
    "\n",
    "def download(url, pathname):\n",
    "    \"\"\"\n",
    "    Downloads a file given an URL and puts it in the folder `pathname`\n",
    "    \"\"\"\n",
    "    # if path doesn't exist, make that path dir\n",
    "    if not os.path.isdir(pathname):\n",
    "        os.makedirs(pathname)\n",
    "    # download the body of response by chunk, not immediately\n",
    "    response = requests.get(url, stream=True)\n",
    "    # get the total file size\n",
    "    file_size = int(response.headers.get(\"Content-Length\", 0))\n",
    "    # get the file name\n",
    "    filename = os.path.join(pathname, url.split(\"/\")[-1])\n",
    "    # progress bar, changing the unit to bytes instead of iteration (default by tqdm)\n",
    "    progress = tqdm(response.iter_content(1024), f\"Downloading {filename}\", total=file_size, unit=\"B\", unit_scale=True, unit_divisor=1024)\n",
    "    with open(filename, \"wb\") as f:\n",
    "        for data in progress.iterable:\n",
    "            # write data read to the file\n",
    "            f.write(data)\n",
    "            # update the progress bar manually\n",
    "            progress.update(len(data))\n",
    "\n",
    "\"\"\"\n",
    " \"main\" is the function that is actually scraping and downloading the images off a specified website\n",
    " input: a url and a directory path\n",
    " output/result: images are downloaded into specific folder\n",
    " everything above is used in main\n",
    "\"\"\"           \n",
    "def main(url, path):\n",
    "    # get all images\n",
    "    imgs = get_all_images(url)\n",
    "    for img in imgs:\n",
    "        # for each image, download it\n",
    "        download(img, path)\n",
    "\n",
    "\"\"\"\n",
    "example of how to run main to download images      \n",
    "main(\"https://www.csulb.edu/college-of-education\", \"C:\\\\Users\\\\hanse\\\\Documents\\\\Github\\\\Algorithmic-Bias\\\\Web-Scraping\\\\image-folder\")\n",
    "\"\"\""
   ]
  },
  {
   "cell_type": "code",
   "execution_count": 37,
   "id": "72e5ff78",
   "metadata": {},
   "outputs": [],
   "source": [
    "from bs4 import BeautifulSoup\n",
    "import requests\n",
    "\n",
    "def get_embedded_url(url):\n",
    "    \"\"\"\n",
    "    extracts all links embedded in 'url' that contain \"college-of-education\"\n",
    "    stores the links in the list 'observed_links'\n",
    "    \"\"\"\n",
    "    page = requests.get(url)    \n",
    "    data = page.text\n",
    "    soup = BeautifulSoup(data)\n",
    "\n",
    "    # this is creating the list of urls that are embedded in college of ed homepage that we want to look into\n",
    "    observed_links = []\n",
    "    for link in soup.find_all('a'):\n",
    "        if 'college-of-education' in link.get('href'):\n",
    "            if 'https://www.csulb.edu' in link.get('href'):\n",
    "                observed_links.append(link.get('href'))\n",
    "            elif link.get('href')[:1] == '/':\n",
    "                https_concat = 'https://www.csulb.edu'+(link.get('href'))\n",
    "                observed_links.append(https_concat)\n",
    "    observed_links = list(set(observed_links))\n",
    "    return observed_links"
   ]
  },
  {
   "cell_type": "markdown",
   "id": "fd606535",
   "metadata": {},
   "source": [
    "In the block below we get all links embedded in \"https://www.csulb.edu/college-of-education w/ the condition that \n",
    "it has \"college-of-education\" in the url\n",
    "\n",
    "Such links are stored in a list, \"observed_links\""
   ]
  },
  {
   "cell_type": "code",
   "execution_count": 38,
   "id": "3fa3442a",
   "metadata": {},
   "outputs": [],
   "source": [
    "observed_links = get_embedded_url(\"https://www.csulb.edu/college-of-education\")"
   ]
  },
  {
   "cell_type": "markdown",
   "id": "98feb5eb",
   "metadata": {},
   "source": [
    "Next block is only for inspection purposes,user can skip to the next block"
   ]
  },
  {
   "cell_type": "code",
   "execution_count": 40,
   "id": "b95817ff",
   "metadata": {
    "scrolled": true
   },
   "outputs": [
    {
     "data": {
      "text/plain": [
       "['https://www.csulb.edu/college-of-education/spotlights',\n",
       " 'https://www.csulb.edu/college-of-education/research-and-grants',\n",
       " 'https://www.csulb.edu/college-of-education/employment-opportunities',\n",
       " 'https://www.csulb.edu/college-of-education/single-subject-credential-program-sscp',\n",
       " 'https://www.csulb.edu/college-of-education/form/share-your-faculty-andor-staff-updates-and-accolades',\n",
       " 'https://www.csulb.edu/college-of-education/educational-technology-and-media-leadership',\n",
       " 'https://www.csulb.edu/college-of-education/ced-accreditation-launchpad',\n",
       " 'https://www.csulb.edu/college-of-education/policies-and-forms',\n",
       " 'https://www.csulb.edu/college-of-education/assessment-office',\n",
       " 'https://www.csulb.edu/college-of-education/urban-dual-credential-program-udcp',\n",
       " 'https://www.csulb.edu/college-of-education/teacher-education',\n",
       " 'https://www.csulb.edu/college-of-education/technology',\n",
       " 'https://www.csulb.edu/college-of-education/multiple-subject-credential-program-mscp',\n",
       " 'https://www.csulb.edu/college-of-education/admissions-and-how-to-apply',\n",
       " 'https://www.csulb.edu/college-of-education/article/the-hall-of-fame-career-of-dr-bill-vega',\n",
       " 'https://www.csulb.edu/college-of-education/ced-study-abroad-programs',\n",
       " 'https://www.csulb.edu/college-of-education/long-beach-trauma-recovery-center',\n",
       " 'https://www.csulb.edu/college-of-education/make-an-appointment',\n",
       " 'https://www.csulb.edu/college-of-education/development-office',\n",
       " 'https://www.csulb.edu/college-of-education/alumni',\n",
       " 'https://www.csulb.edu/college-of-education/college-of-education-faculty-staff',\n",
       " 'https://www.csulb.edu/college-of-education/article/college-awarded-39-million-to-improve-youth-mental-health',\n",
       " 'https://www.csulb.edu/college-of-education/credential-center/career-technical-education-teaching-credential',\n",
       " 'https://www.csulb.edu/college-of-education/teacher-librarian-services-credential',\n",
       " 'https://www.csulb.edu/college-of-education/article/the-winner-of-our-diploma-frame-giveaway',\n",
       " 'https://www.csulb.edu/college-of-education/office-of-the-dean/college-and-university-tools',\n",
       " 'https://www.csulb.edu/college-of-education/mathematics-education',\n",
       " 'https://www.csulb.edu/college-of-education/college-governance',\n",
       " 'https://www.csulb.edu/college-of-education/become-a-counselor-or-psychologist',\n",
       " 'https://www.csulb.edu/college-of-education',\n",
       " 'https://www.csulb.edu/college-of-education/university-college-student-resources',\n",
       " 'https://www.csulb.edu/college-of-education/teaching-and-learning-portal',\n",
       " 'https://www.csulb.edu/college-of-education/graduate-certificate-applied-disability-studies',\n",
       " 'https://www.csulb.edu/college-of-education/outreach-and-recruitment/interested-visiting-the-college-of-education',\n",
       " 'https://www.csulb.edu/college-of-education/liberal-studies/prospective-students',\n",
       " 'https://www.csulb.edu/college-of-education/become-an-educational-leader',\n",
       " 'https://www.csulb.edu/college-of-education/school-counseling',\n",
       " 'https://www.csulb.edu/college-of-education/advanced-studies-education-and-counseling',\n",
       " 'https://www.csulb.edu/college-of-education/student-development-higher-education',\n",
       " 'https://www.csulb.edu/college-of-education/article/college-of-ed-professor-student-honored-for-work-supporting-black-grad',\n",
       " 'https://www.csulb.edu/college-of-education/faculty-resources-and-support',\n",
       " 'https://www.csulb.edu/college-of-education/education-specialist-credential-program-escp',\n",
       " 'https://www.csulb.edu/college-of-education/message-the-dean',\n",
       " 'https://www.csulb.edu/college-of-education/office-of-the-dean',\n",
       " 'https://www.csulb.edu/college-of-education/dual-language-development',\n",
       " 'https://www.csulb.edu/college-of-education/outreach-and-recruitment',\n",
       " 'https://www.csulb.edu/college-of-education/counseling-psychology',\n",
       " 'https://www.csulb.edu/college-of-education/credential-center/credential-programs',\n",
       " 'https://www.csulb.edu/college-of-education/hsi-caminos-project-caminantes-for-education',\n",
       " 'https://www.csulb.edu/college-of-education/master-of-science-special-education',\n",
       " 'https://www.csulb.edu/college-of-education/early-childhood-education',\n",
       " 'https://www.csulb.edu/college-of-education/college-of-education-faculty-research-stories',\n",
       " 'https://www.csulb.edu/college-of-education/credential-center',\n",
       " 'https://www.csulb.edu/college-of-education/graduate-certificate-community-college',\n",
       " 'https://www.csulb.edu/college-of-education/educational-administration',\n",
       " 'https://www.csulb.edu/college-of-education/community-clinic-for-counseling-and-educational-services',\n",
       " 'https://www.csulb.edu/college-of-education/college-of-education-student-organizations',\n",
       " 'https://www.csulb.edu/college-of-education/become-a-teacher',\n",
       " 'https://www.csulb.edu/college-of-education/teacher-preparation-advising-center-tpac',\n",
       " 'https://www.csulb.edu/college-of-education/office-of-clinical-practice-ocp',\n",
       " 'https://www.csulb.edu/college-of-education/explore-our-programs',\n",
       " 'https://www.csulb.edu/college-of-education/social-and-cultural-analysis-of-education',\n",
       " 'https://www.csulb.edu/college-of-education/about-the-college',\n",
       " 'https://www.csulb.edu/college-of-education/admissions-and-how-apply',\n",
       " 'https://www.csulb.edu/college-of-education/credential-center/careers-education',\n",
       " 'https://www.csulb.edu/college-of-education/educational-doctorate-educational-leadership',\n",
       " 'https://www.csulb.edu/college-of-education/article/dr-anna-ortiz-named-dean-of-the-college-of-education',\n",
       " 'https://www.csulb.edu/college-of-education/educational-leadership',\n",
       " 'https://www.csulb.edu/college-of-education/fiscal-office',\n",
       " 'https://www.csulb.edu/college-of-education/curriculum-and-instruction',\n",
       " 'https://www.csulb.edu/college-of-education/events',\n",
       " 'https://www.csulb.edu/college-of-education/article/outstanding-grad-gives-the-heart-and-gives-her-all',\n",
       " 'https://www.csulb.edu/college-of-education/school-psychology',\n",
       " 'https://www.csulb.edu/college-of-education/graduate-studies-office',\n",
       " 'https://www.csulb.edu/college-of-education/contact-us',\n",
       " 'https://www.csulb.edu/college-of-education/center-for-evaluation-and-educational-effectiveness',\n",
       " 'https://www.csulb.edu/college-of-education/overview-of-scholarships-financial-aid',\n",
       " 'https://www.csulb.edu/college-of-education/outreach-and-recruitment/program-information-sessions',\n",
       " 'https://www.csulb.edu/college-of-education/liberal-studies',\n",
       " 'https://www.csulb.edu/college-of-education/liberal-studies/liberal-studies-program',\n",
       " 'https://www.csulb.edu/college-of-education/article/superintendent-earns-highest-alumni-honor']"
      ]
     },
     "metadata": {},
     "output_type": "display_data"
    },
    {
     "data": {
      "text/plain": [
       "81"
      ]
     },
     "metadata": {},
     "output_type": "display_data"
    },
    {
     "data": {
      "text/plain": [
       "81"
      ]
     },
     "execution_count": 40,
     "metadata": {},
     "output_type": "execute_result"
    }
   ],
   "source": [
    "# display the list of links generated above, what does it \"physically\" look like?\n",
    "display(observed_links)\n",
    "\n",
    "# display the number of links that were extracted using get_embedded_url\n",
    "display(len(observed_links))\n",
    "\n",
    "# count the number of \"valid\" or executable links in the observed\n",
    "count = 0\n",
    "for i in observed_links:\n",
    "    if is_valid(i):\n",
    "        count += 1\n",
    "count"
   ]
  },
  {
   "cell_type": "markdown",
   "id": "16c07c0f",
   "metadata": {},
   "source": [
    "### Image Download\n",
    "The following code block is where I actually begin to download images.\n",
    "The loop goes through the list of interest developed above, \"observed_links\",  and runs \"main\" to get all the images from the url specified (Note: the url specified is contained in the list \"observed_links\")\n",
    "\n",
    "This method serves to extract images from the College of Education home page as well as the images from the *webpages* embedded in the College of education. (Note: This was only the first attempt at developing the set of images desired. Farther down we observe how to expand on the set of webpage urls to in turn expand our image dataset.)"
   ]
  },
  {
   "cell_type": "code",
   "execution_count": null,
   "id": "d8f8018f",
   "metadata": {},
   "outputs": [],
   "source": [
    "# for every url in \"observed_links\" download the images contained on that page and store it in \"image-folder\" directory\n",
    "for i in range(len(observed_links)):\n",
    "    main(observed_links[i], \"C:\\\\Users\\\\hanse\\\\Documents\\\\Github\\\\Algorithmic-Bias\\\\Web-Scraping\\\\image-folder\")"
   ]
  },
  {
   "cell_type": "markdown",
   "id": "f3d43138",
   "metadata": {},
   "source": [
    "Next block is only for inspection purposes,user can skip to the next block"
   ]
  },
  {
   "cell_type": "code",
   "execution_count": 41,
   "id": "42d85c89",
   "metadata": {},
   "outputs": [
    {
     "name": "stdout",
     "output_type": "stream",
     "text": [
      "File count: 83\n"
     ]
    }
   ],
   "source": [
    "# count the files in the folder that was the target of my downloads\n",
    "dir_path = \"C:\\\\Users\\\\hanse\\\\Documents\\\\Github\\\\Algorithmic-Bias\\\\Web-Scraping\\\\image-folder\"\n",
    "count = 0\n",
    "# Iterate directory\n",
    "for path in os.listdir(dir_path):\n",
    "    # check if current path is a file\n",
    "    if os.path.isfile(os.path.join(dir_path, path)):\n",
    "        count += 1\n",
    "print('File count:', count)"
   ]
  },
  {
   "cell_type": "markdown",
   "id": "e5fa2fe6",
   "metadata": {},
   "source": [
    "The process above yields 81 searchable College of Education webpages and 82 image downloads. 1 image is actually repeated 4x so the net total image downloads for the identified webpages is effectively 78. (As of June 26, 2023)\n",
    "\n",
    "**<span style=\"color:red\">Edit: Previous version of code only used 80 of 81 urls mentioned. The code has since been adjusted to gather images from all 81 webpages.</span>**\n",
    "\n",
    "Next we will try to expand on the list of searchable webpages by running the function \"<span style=\"color:blue\">get_embedded_url</span>\" for each of the 81 searchable webpages identified above. (Note: The 81 webpages ID'd above are embedded in the College of Education Home page.)\n",
    "\n",
    "We will develop a nested list that stores a \"level 2\" scrape of embedded links. That is, for each webpage url in \"observed_links\", recall that these are links embedded in the College of Education home page, we extract all embedded links that satisfy the criteria specified in the \"get_embedded_url\" function definition block of code."
   ]
  },
  {
   "cell_type": "code",
   "execution_count": 39,
   "id": "87d6225a",
   "metadata": {},
   "outputs": [],
   "source": [
    "# observed_links_lvl2 is the nested list described above\n",
    "observed_links_lvl2 = [None]*len(observed_links)\n",
    "for i in range(len(observed_links)):\n",
    "    observed_links_lvl2[i] = get_embedded_url(observed_links[i])"
   ]
  },
  {
   "cell_type": "markdown",
   "id": "e46434f4",
   "metadata": {},
   "source": [
    "Next block is only for inspection purposes,user can skip to the next block"
   ]
  },
  {
   "cell_type": "code",
   "execution_count": 42,
   "id": "8dec3c62",
   "metadata": {},
   "outputs": [
    {
     "name": "stdout",
     "output_type": "stream",
     "text": [
      "77\n",
      "76\n",
      "66\n",
      "94\n",
      "67\n",
      "78\n",
      "86\n",
      "72\n",
      "67\n",
      "77\n",
      "78\n",
      "71\n",
      "85\n",
      "71\n",
      "65\n",
      "67\n",
      "72\n",
      "65\n",
      "69\n",
      "98\n",
      "189\n",
      "65\n",
      "80\n",
      "79\n",
      "65\n",
      "70\n",
      "68\n",
      "69\n",
      "65\n",
      "81\n",
      "66\n",
      "70\n",
      "69\n",
      "73\n",
      "82\n",
      "65\n",
      "80\n",
      "68\n",
      "80\n",
      "65\n",
      "75\n",
      "83\n",
      "66\n",
      "69\n",
      "80\n",
      "73\n",
      "79\n",
      "82\n",
      "72\n",
      "79\n",
      "77\n",
      "66\n",
      "85\n",
      "66\n",
      "79\n",
      "78\n",
      "65\n",
      "68\n",
      "80\n",
      "79\n",
      "72\n",
      "80\n",
      "67\n",
      "71\n",
      "80\n",
      "97\n",
      "66\n",
      "73\n",
      "67\n",
      "77\n",
      "65\n",
      "65\n",
      "82\n",
      "91\n",
      "67\n",
      "72\n",
      "68\n",
      "73\n",
      "80\n",
      "85\n",
      "65\n"
     ]
    },
    {
     "data": {
      "text/plain": [
       "[['https://www.csulb.edu/college-of-education/article/photo-gallery-educational-administration-hooding-ceremony',\n",
       "  'https://www.csulb.edu/college-of-education/research-and-grants',\n",
       "  'https://www.csulb.edu/college-of-education/employment-opportunities',\n",
       "  'https://www.csulb.edu/college-of-education/single-subject-credential-program-sscp',\n",
       "  'https://www.csulb.edu/college-of-education/form/share-your-faculty-andor-staff-updates-and-accolades',\n",
       "  'https://www.csulb.edu/college-of-education/article/photo-gallery-2023-educational-leadership-doctorate-hooding-ceremony',\n",
       "  'https://www.csulb.edu/college-of-education/educational-technology-and-media-leadership',\n",
       "  'https://www.csulb.edu/college-of-education/policies-and-forms',\n",
       "  'https://www.csulb.edu/college-of-education/assessment-office',\n",
       "  'https://www.csulb.edu/college-of-education/urban-dual-credential-program-udcp',\n",
       "  'https://www.csulb.edu/college-of-education/teacher-education',\n",
       "  'https://www.csulb.edu/college-of-education/technology',\n",
       "  'https://www.csulb.edu/college-of-education/multiple-subject-credential-program-mscp',\n",
       "  'https://www.csulb.edu/college-of-education/admissions-and-how-to-apply',\n",
       "  'https://www.csulb.edu/college-of-education/article/the-hall-of-fame-career-of-dr-bill-vega',\n",
       "  'https://www.csulb.edu/college-of-education/ced-study-abroad-programs',\n",
       "  'https://www.csulb.edu/college-of-education/long-beach-trauma-recovery-center',\n",
       "  'https://www.csulb.edu/college-of-education/make-an-appointment',\n",
       "  'https://www.csulb.edu/college-of-education/development-office',\n",
       "  'https://www.csulb.edu/college-of-education/alumni',\n",
       "  'https://www.csulb.edu/college-of-education/college-of-education-faculty-staff',\n",
       "  'https://www.csulb.edu/college-of-education/article/college-awarded-39-million-to-improve-youth-mental-health',\n",
       "  'https://www.csulb.edu/college-of-education/credential-center/career-technical-education-teaching-credential',\n",
       "  'https://www.csulb.edu/college-of-education/teacher-librarian-services-credential',\n",
       "  'https://www.csulb.edu/college-of-education/article/the-winner-of-our-diploma-frame-giveaway',\n",
       "  'https://www.csulb.edu/college-of-education/office-of-the-dean/college-and-university-tools',\n",
       "  'https://www.csulb.edu/college-of-education/mathematics-education',\n",
       "  'https://www.csulb.edu/college-of-education/article/school-psychology-students-earn-national-recognition-for-showcasing',\n",
       "  'https://www.csulb.edu/college-of-education/college-governance',\n",
       "  'https://www.csulb.edu/college-of-education',\n",
       "  'https://www.csulb.edu/college-of-education/graduate-certificate-applied-disability-studies',\n",
       "  'https://www.csulb.edu/college-of-education/outreach-and-recruitment/interested-visiting-the-college-of-education',\n",
       "  'https://www.csulb.edu/college-of-education/liberal-studies/prospective-students',\n",
       "  'https://www.csulb.edu/college-of-education/school-counseling',\n",
       "  'https://www.csulb.edu/college-of-education/advanced-studies-education-and-counseling',\n",
       "  'https://www.csulb.edu/college-of-education/student-development-higher-education',\n",
       "  'https://www.csulb.edu/college-of-education/article/college-of-ed-professor-student-honored-for-work-supporting-black-grad',\n",
       "  'https://www.csulb.edu/college-of-education/faculty-resources-and-support',\n",
       "  'https://www.csulb.edu/college-of-education/education-specialist-credential-program-escp',\n",
       "  'https://www.csulb.edu/college-of-education/message-the-dean',\n",
       "  'https://www.csulb.edu/college-of-education/office-of-the-dean',\n",
       "  'https://www.csulb.edu/college-of-education/dual-language-development',\n",
       "  'https://www.csulb.edu/college-of-education/outreach-and-recruitment',\n",
       "  'https://www.csulb.edu/college-of-education/counseling-psychology',\n",
       "  'https://www.csulb.edu/college-of-education/credential-center/credential-programs',\n",
       "  'https://www.csulb.edu/college-of-education/hsi-caminos-project-caminantes-for-education',\n",
       "  'https://www.csulb.edu/college-of-education/master-of-science-special-education',\n",
       "  'https://www.csulb.edu/college-of-education/early-childhood-education',\n",
       "  'https://www.csulb.edu/college-of-education/college-of-education-faculty-research-stories',\n",
       "  'https://www.csulb.edu/college-of-education/credential-center',\n",
       "  'https://www.csulb.edu/college-of-education/graduate-certificate-community-college',\n",
       "  'https://www.csulb.edu/college-of-education/educational-administration',\n",
       "  'https://www.csulb.edu/college-of-education/community-clinic-for-counseling-and-educational-services',\n",
       "  'https://www.csulb.edu/college-of-education/college-of-education-student-organizations',\n",
       "  'https://www.csulb.edu/college-of-education/teacher-preparation-advising-center-tpac',\n",
       "  'https://www.csulb.edu/college-of-education/office-of-clinical-practice-ocp',\n",
       "  'https://www.csulb.edu/college-of-education/explore-our-programs',\n",
       "  'https://www.csulb.edu/college-of-education/social-and-cultural-analysis-of-education',\n",
       "  'https://www.csulb.edu/college-of-education/about-the-college',\n",
       "  'https://www.csulb.edu/college-of-education/article/photo-gallery-2023-commencement',\n",
       "  'https://www.csulb.edu/college-of-education/credential-center/careers-education',\n",
       "  'https://www.csulb.edu/college-of-education/educational-doctorate-educational-leadership',\n",
       "  'https://www.csulb.edu/college-of-education/article/dr-anna-ortiz-named-dean-of-the-college-of-education',\n",
       "  'https://www.csulb.edu/college-of-education/educational-leadership',\n",
       "  'https://www.csulb.edu/college-of-education/fiscal-office',\n",
       "  'https://www.csulb.edu/college-of-education/curriculum-and-instruction',\n",
       "  'https://www.csulb.edu/college-of-education/article/outstanding-grad-gives-the-heart-and-gives-her-all',\n",
       "  'https://www.csulb.edu/college-of-education/school-psychology',\n",
       "  'https://www.csulb.edu/college-of-education/graduate-studies-office',\n",
       "  'https://www.csulb.edu/college-of-education/contact-us',\n",
       "  'https://www.csulb.edu/college-of-education/center-for-evaluation-and-educational-effectiveness',\n",
       "  'https://www.csulb.edu/college-of-education/overview-of-scholarships-financial-aid',\n",
       "  'https://www.csulb.edu/college-of-education/outreach-and-recruitment/program-information-sessions',\n",
       "  'https://www.csulb.edu/college-of-education/article/how-to-recruit-teachers-of-color-start-early',\n",
       "  'https://www.csulb.edu/college-of-education/liberal-studies',\n",
       "  'https://www.csulb.edu/college-of-education/liberal-studies/liberal-studies-program',\n",
       "  'https://www.csulb.edu/college-of-education/article/superintendent-earns-highest-alumni-honor'],\n",
       " ['https://www.csulb.edu/college-of-education/credential-center/career-technical-education-teaching-credential',\n",
       "  'https://www.csulb.edu/college-of-education/faculty-resources-and-support',\n",
       "  'https://www.csulb.edu/college-of-education/education-specialist-credential-program-escp',\n",
       "  'https://www.csulb.edu/college-of-education/explore-our-programs',\n",
       "  'https://www.csulb.edu/college-of-education/message-the-dean',\n",
       "  'https://www.csulb.edu/college-of-education/teacher-librarian-services-credential',\n",
       "  'https://www.csulb.edu/college-of-education/about-the-college',\n",
       "  'https://www.csulb.edu/college-of-education/social-and-cultural-analysis-of-education',\n",
       "  'https://www.csulb.edu/college-of-education/office-of-the-dean/college-and-university-tools',\n",
       "  'https://www.csulb.edu/college-of-education/mathematics-education',\n",
       "  'https://www.csulb.edu/college-of-education/credential-center/careers-education',\n",
       "  'https://www.csulb.edu/college-of-education/educational-doctorate-educational-leadership',\n",
       "  'https://www.csulb.edu/college-of-education/article/dr-jessica-pandya-receives-university-achievement-award-for-outstanding',\n",
       "  'https://www.csulb.edu/college-of-education/article/dr-jolan-smith-receives-the-outstanding-graduate-student-research-award',\n",
       "  'https://www.csulb.edu/college-of-education/research-and-grants',\n",
       "  'https://www.csulb.edu/college-of-education/educational-leadership',\n",
       "  'https://www.csulb.edu/college-of-education/employment-opportunities',\n",
       "  'https://www.csulb.edu/college-of-education/research-and-grants/apply-for-internal-and-external-funding',\n",
       "  'https://www.csulb.edu/college-of-education/college-governance',\n",
       "  'https://www.csulb.edu/college-of-education/fiscal-office',\n",
       "  'https://www.csulb.edu/college-of-education/curriculum-and-instruction',\n",
       "  'https://www.csulb.edu/college-of-education/office-of-the-dean',\n",
       "  'https://www.csulb.edu/college-of-education/article/drs-shuhua-an-jyotsna-pattnaik-awarded-orsp-multidisciplinary-research',\n",
       "  'https://www.csulb.edu/college-of-education',\n",
       "  'https://www.csulb.edu/college-of-education/dual-language-development',\n",
       "  'https://www.csulb.edu/college-of-education/outreach-and-recruitment',\n",
       "  'https://www.csulb.edu/college-of-education/single-subject-credential-program-sscp',\n",
       "  'https://www.csulb.edu/college-of-education/form/share-your-faculty-andor-staff-updates-and-accolades',\n",
       "  'https://www.csulb.edu/college-of-education/school-psychology',\n",
       "  'https://www.csulb.edu/college-of-education/educational-technology-and-media-leadership',\n",
       "  'https://www.csulb.edu/college-of-education/credential-center/credential-programs',\n",
       "  'https://www.csulb.edu/college-of-education/counseling-psychology',\n",
       "  'https://www.csulb.edu/college-of-education-research-and-grants/article/dr-trini-lewis-presents-at-cabe-graduate-students',\n",
       "  'https://www.csulb.edu/college-of-education/graduate-studies-office',\n",
       "  'https://www.csulb.edu/college-of-education/hsi-caminos-project-caminantes-for-education',\n",
       "  'https://www.csulb.edu/college-of-education/policies-and-forms',\n",
       "  'https://www.csulb.edu/college-of-education/master-of-science-special-education',\n",
       "  'https://www.csulb.edu/college-of-education/early-childhood-education',\n",
       "  'https://www.csulb.edu/college-of-education/assessment-office',\n",
       "  'https://www.csulb.edu/college-of-education/college-of-education-faculty-research-stories',\n",
       "  'https://www.csulb.edu/college-of-education/contact-us',\n",
       "  'https://www.csulb.edu/college-of-education/center-for-evaluation-and-educational-effectiveness',\n",
       "  'https://www.csulb.edu/college-of-education/graduate-certificate-applied-disability-studies',\n",
       "  'https://www.csulb.edu/college-of-education/article/drs-priede-schubert-hsieh-present-study-diverse-teacher-candidates-at',\n",
       "  'https://www.csulb.edu/college-of-education/credential-center',\n",
       "  'https://www.csulb.edu/college-of-education/outreach-and-recruitment/interested-visiting-the-college-of-education',\n",
       "  'https://www.csulb.edu/college-of-education/overview-of-scholarships-financial-aid',\n",
       "  'https://www.csulb.edu/college-of-education/urban-dual-credential-program-udcp',\n",
       "  'https://www.csulb.edu/college-of-education/teacher-education',\n",
       "  'https://www.csulb.edu/college-of-education/technology',\n",
       "  'https://www.csulb.edu/college-of-education/article/hej-svenska-bibliotekarier-hey-swedish-librarians-lesley-farmer-returns',\n",
       "  'https://www.csulb.edu/college-of-education/graduate-certificate-community-college',\n",
       "  'https://www.csulb.edu/college-of-education/multiple-subject-credential-program-mscp',\n",
       "  'https://www.csulb.edu/college-of-education/educational-administration',\n",
       "  'https://www.csulb.edu/college-of-education/research-and-grants/research-and-grants-spotlight-archive',\n",
       "  'https://www.csulb.edu/college-of-education/admissions-and-how-to-apply',\n",
       "  'https://www.csulb.edu/college-of-education/outreach-and-recruitment/program-information-sessions',\n",
       "  'https://www.csulb.edu/college-of-education/liberal-studies/prospective-students',\n",
       "  'https://www.csulb.edu/college-of-education/ced-study-abroad-programs',\n",
       "  'https://www.csulb.edu/college-of-education/long-beach-trauma-recovery-center',\n",
       "  'https://www.csulb.edu/college-of-education/community-clinic-for-counseling-and-educational-services',\n",
       "  'https://www.csulb.edu/college-of-education/make-an-appointment',\n",
       "  'https://www.csulb.edu/college-of-education/college-of-education-student-organizations',\n",
       "  'https://www.csulb.edu/college-of-education/development-office',\n",
       "  'https://www.csulb.edu/college-of-education/liberal-studies',\n",
       "  'https://www.csulb.edu/college-of-education/research-and-grants/grants-contracts-support-structure',\n",
       "  'https://www.csulb.edu/college-of-education/school-counseling',\n",
       "  'https://www.csulb.edu/college-of-education/advanced-studies-education-and-counseling',\n",
       "  'https://www.csulb.edu/college-of-education/liberal-studies/liberal-studies-program',\n",
       "  'https://www.csulb.edu/college-of-education/research-and-grants/grant-search-writing-resources',\n",
       "  'https://www.csulb.edu/college-of-education/student-development-higher-education',\n",
       "  'https://www.csulb.edu/college-of-education/alumni',\n",
       "  'https://www.csulb.edu/college-of-education/research-and-grants/college-of-education-active-grants-and-contracts',\n",
       "  'https://www.csulb.edu/college-of-education/college-of-education-faculty-staff',\n",
       "  'https://www.csulb.edu/college-of-education/teacher-preparation-advising-center-tpac',\n",
       "  'https://www.csulb.edu/college-of-education/office-of-clinical-practice-ocp']]"
      ]
     },
     "metadata": {},
     "output_type": "display_data"
    }
   ],
   "source": [
    "# count the number of links in the nested\n",
    "for i in range(len(observed_links_lvl2)):\n",
    "    print(len(observed_links_lvl2[i]))\n",
    "    \n",
    "display(observed_links_lvl2[:2])"
   ]
  },
  {
   "cell_type": "markdown",
   "id": "7cfe5428",
   "metadata": {},
   "source": [
    "clean up the \"level 2\" url scrape data by flattening out the nested list, \"observed_links2\", and removing repetitions."
   ]
  },
  {
   "cell_type": "code",
   "execution_count": 66,
   "id": "6f60a088",
   "metadata": {},
   "outputs": [],
   "source": [
    "# flatten observed_links2\n",
    "from itertools import chain\n",
    "lvl2_flat = list(chain.from_iterable(observed_links_lvl2))\n",
    "\n",
    "# keep only unique urls\n",
    "lvl2_flat_unique = list(set(lvl2_flat))"
   ]
  },
  {
   "cell_type": "code",
   "execution_count": 45,
   "id": "778c5c61",
   "metadata": {},
   "outputs": [
    {
     "data": {
      "text/plain": [
       "6114"
      ]
     },
     "metadata": {},
     "output_type": "display_data"
    },
    {
     "data": {
      "text/plain": [
       "749"
      ]
     },
     "metadata": {},
     "output_type": "display_data"
    },
    {
     "data": {
      "text/plain": [
       "749"
      ]
     },
     "execution_count": 45,
     "metadata": {},
     "output_type": "execute_result"
    }
   ],
   "source": [
    "# inspect size of lists created above\n",
    "display(len(lvl2_flat))\n",
    "display(len(lvl2_flat_unique))\n",
    "\n",
    "# count the number of \"valid\" or executable links in the observed\n",
    "count = 0\n",
    "for i in lvl2_flat_unique:\n",
    "    if is_valid(i):\n",
    "        count += 1\n",
    "count"
   ]
  },
  {
   "cell_type": "markdown",
   "id": "476ccf87",
   "metadata": {},
   "source": [
    "The following code block demonstrates that the webpage urls in \"observed_links\" are also present in \"lvl2_flat_unique\". The concatenation of both lists followed by the removal of repeated entries yields 749 unique webpage urls, the same as the level 2 scrape. Thus, \"observed_links\" does not contain novel data relevant to \"lvl2_flat_unique\" and the level 2 scrape can be used to develop our full dataset."
   ]
  },
  {
   "cell_type": "code",
   "execution_count": null,
   "id": "d4199aa6",
   "metadata": {},
   "outputs": [],
   "source": [
    "len(list(set([observed_links, lvl2_flat_unique])))"
   ]
  },
  {
   "cell_type": "markdown",
   "id": "832f9196",
   "metadata": {},
   "source": [
    "The following code block served to remove the \"observed_links\" list from \"lvl2_flat_unique\". This is done for the purpose of the scope of the CSULB DST tasks. Images from \"observed_links\" are already present in our repo so we don't want to repeat downloads from these links because it takes \"a good while\" so we remove them from the \"to-be downloaded\" list."
   ]
  },
  {
   "cell_type": "code",
   "execution_count": 46,
   "id": "febec0e2",
   "metadata": {},
   "outputs": [
    {
     "data": {
      "text/plain": [
       "668"
      ]
     },
     "metadata": {},
     "output_type": "display_data"
    }
   ],
   "source": [
    "from collections import Counter\n",
    "to_be_downloaded = list((Counter(lvl2_flat_unique)-Counter(observed_links)).elements())\n",
    "display(len(to_be_downloaded))"
   ]
  },
  {
   "cell_type": "markdown",
   "id": "ef30c09d",
   "metadata": {},
   "source": [
    "Below I download the images from the 668 links defined above. User should use skip the following block and use \"lvl2_flat_unique\" if \"observed_links\" has not been used to gather images."
   ]
  },
  {
   "cell_type": "code",
   "execution_count": null,
   "id": "34332a08",
   "metadata": {},
   "outputs": [],
   "source": [
    "%%timeit -r 1 -n 1\n",
    "for i in range(len(to_be_downloaded)):\n",
    "    main(to_be_downloaded[i], \"C:\\\\Users\\\\hanse\\\\Documents\\\\Github\\\\Algorithmic-Bias\\\\Web-Scraping\\\\image-folder2\")"
   ]
  },
  {
   "cell_type": "markdown",
   "id": "c18e15a4",
   "metadata": {},
   "source": [
    "Below I download all images from the 749 webpage urls resulting from the level 2 scrape. (Note: This took my personal device about an hour to complete and there was still an error message printed at the end regarding url request exceeding 30 attempts. However, the value of i below indicates the loop ran in it's entirety."
   ]
  },
  {
   "cell_type": "code",
   "execution_count": null,
   "id": "87aabb7b",
   "metadata": {},
   "outputs": [],
   "source": [
    "%%timeit -r 1 -n 1\n",
    "for i in range(len(lvl2_flat_unique)):\n",
    "    main(lvl2_flat_unique[i], \"C:\\\\Users\\\\hanse\\\\Documents\\\\Github\\\\Algorithmic-Bias\\\\Web-Scraping\\\\image-folder2\")"
   ]
  },
  {
   "cell_type": "code",
   "execution_count": 88,
   "id": "8ae27b9f",
   "metadata": {},
   "outputs": [
    {
     "data": {
      "text/plain": [
       "748"
      ]
     },
     "metadata": {},
     "output_type": "display_data"
    }
   ],
   "source": [
    "# check how far along in the loop the machine got to before printing an error\n",
    "display(i)"
   ]
  }
 ],
 "metadata": {
  "celltoolbar": "Raw Cell Format",
  "kernelspec": {
   "display_name": "Python 3 (ipykernel)",
   "language": "python",
   "name": "python3"
  },
  "language_info": {
   "codemirror_mode": {
    "name": "ipython",
    "version": 3
   },
   "file_extension": ".py",
   "mimetype": "text/x-python",
   "name": "python",
   "nbconvert_exporter": "python",
   "pygments_lexer": "ipython3",
   "version": "3.9.12"
  }
 },
 "nbformat": 4,
 "nbformat_minor": 5
}
