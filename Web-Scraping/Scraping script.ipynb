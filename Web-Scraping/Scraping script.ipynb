{
 "cells": [
  {
   "cell_type": "markdown",
   "id": "93c5a833",
   "metadata": {},
   "source": [
    "## This will be our initial attempt to develop a script to scrape the website of choice."
   ]
  },
  {
   "cell_type": "code",
   "execution_count": null,
   "id": "ada06364",
   "metadata": {},
   "outputs": [],
   "source": [
    "import requests \n",
    "from bs4 import BeautifulSoup \n",
    "    \n",
    "def getdata(url): \n",
    "    r = requests.get(url) \n",
    "    return r.text \n",
    "    \n",
    "htmldata = getdata(\"https://en.wikipedia.org/wiki/Cheese\") \n",
    "soup = BeautifulSoup(htmldata, 'html.parser') \n",
    "for item in soup.find_all('img'):\n",
    "    print(item['src'])"
   ]
  },
  {
   "cell_type": "code",
   "execution_count": null,
   "id": "fc145d77",
   "metadata": {},
   "outputs": [],
   "source": [
    "# credit to Nate who found this and made it work for us!\n",
    "import os\n",
    "import requests\n",
    "import shutil\n",
    "\n",
    "# user will need to define their own desired destination folder\n",
    "os.chdir('C:\\\\Users\\\\hanse\\\\Downloads')\n",
    "\n",
    "urls = ['https://upload.wikimedia.org/wikipedia/commons/thumb/a/a8/Cheese_platter.jpg/520px-Cheese_platter.jpg'\n",
    "       ,'https://upload.wikimedia.org/wikipedia/commons/thumb/5/5f/Ricotta_affumicata_della_sila.jpg/440px-Ricotta_affumicata_della_sila.jpg'\n",
    "       ,'https://upload.wikimedia.org/wikipedia/commons/thumb/4/48/Formaggi.JPG/440px-Formaggi.JPG']\n",
    "for x in urls:\n",
    "    filename = x.split(\"/\")[-1]\n",
    "\n",
    "# Open the url image, set stream to True, this will return the stream content.\n",
    "    r = requests.get(x, stream = True)\n",
    "\n",
    "# Check if the image was retrieved successfully\n",
    "    if r.status_code == 200:\n",
    "    # Set decode_content value to True, otherwise the downloaded image file's size will be zero.\n",
    "        r.raw.decode_content = True\n",
    "    \n",
    "    # Open a local file with wb ( write binary ) permission.\n",
    "        with open(filename,'wb') as f:\n",
    "            shutil.copyfileobj(r.raw, f)\n",
    "\n",
    "        print('Image sucessfully Downloaded: ',filename)\n",
    "    else:\n",
    "        print('Image Couldn\\'t be retreived')"
   ]
  }
 ],
 "metadata": {
  "kernelspec": {
   "display_name": "Python 3 (ipykernel)",
   "language": "python",
   "name": "python3"
  },
  "language_info": {
   "codemirror_mode": {
    "name": "ipython",
    "version": 3
   },
   "file_extension": ".py",
   "mimetype": "text/x-python",
   "name": "python",
   "nbconvert_exporter": "python",
   "pygments_lexer": "ipython3",
   "version": "3.9.12"
  }
 },
 "nbformat": 4,
 "nbformat_minor": 5
}
